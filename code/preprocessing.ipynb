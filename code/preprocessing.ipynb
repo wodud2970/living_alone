{
 "cells": [
  {
   "attachments": {},
   "cell_type": "markdown",
   "metadata": {},
   "source": [
    "## csv에서 필요한 데이터들 추출\n"
   ]
  },
  {
   "cell_type": "code",
   "execution_count": 44,
   "metadata": {},
   "outputs": [],
   "source": [
    "import pandas as pd\n",
    "station = pd.read_excel('../raw_data/지하철/지하철노선위경도정보.xlsx')\n",
    "# 수도권만 추출\n",
    "station_seoul = station[station['역지역'] == '수도권']\n",
    "station_seoul.to_csv('../raw_data/지하철/수도권_지하철.csv', encoding = 'cp949', index = False)"
   ]
  },
  {
   "cell_type": "code",
   "execution_count": 5,
   "metadata": {},
   "outputs": [],
   "source": [
    "import pandas as pd\n",
    "\n",
    "school = pd.read_csv('../raw_data/학교/학교.csv', encoding='cp949')\n",
    "school_seoul = school[school['시도교육청명'] == '서울특별시교육청']\n",
    "school_seoul.to_csv('../preprocessing_data/학교/수도권_학교.csv', encoding='cp949', index = False)"
   ]
  },
  {
   "cell_type": "code",
   "execution_count": 4,
   "metadata": {},
   "outputs": [
    {
     "data": {
      "text/plain": [
       "(array(['복합쇼핑몰', '구분없음', '그 밖의 대규모점포', '전문점', '대형마트', '쇼핑센터', '시장', '백화점',\n",
       "        nan], dtype=object),\n",
       " array(['대규모점포', '준대규모점포', nan], dtype=object))"
      ]
     },
     "execution_count": 4,
     "metadata": {},
     "output_type": "execute_result"
    }
   ],
   "source": [
    "import pandas as pd\n",
    "\n",
    "mart = pd.read_csv('../raw_data/대규모점포/대규모점포.csv', encoding='cp949')\n",
    "mart['업태구분명'].unique(), mart['점포구분명'].unique()\n",
    "\n",
    "#"
   ]
  },
  {
   "cell_type": "code",
   "execution_count": 14,
   "metadata": {},
   "outputs": [],
   "source": [
    "import numpy as np \n",
    "# 서울시만 추출 \n",
    "# seoul_mart = mart[(~mart['소재지전체주소'].isnull()) & mart['소재지전체주소'].str.contains('서울특별시') ]\n",
    "all_mart = mart[(~mart['소재지전체주소'].isnull())]\n",
    "all_mart.to_csv('../preprocessing_data/대형마트/전국대규모전포.csv', index = False, encoding='cp949' )\n"
   ]
  }
 ],
 "metadata": {
  "kernelspec": {
   "display_name": "living_alone",
   "language": "python",
   "name": "python3"
  },
  "language_info": {
   "codemirror_mode": {
    "name": "ipython",
    "version": 3
   },
   "file_extension": ".py",
   "mimetype": "text/x-python",
   "name": "python",
   "nbconvert_exporter": "python",
   "pygments_lexer": "ipython3",
   "version": "3.10.8"
  },
  "orig_nbformat": 4,
  "vscode": {
   "interpreter": {
    "hash": "89b079bc2498d1729ed1c33943d6feeba985ed2e70d38c94303e6a339907e651"
   }
  }
 },
 "nbformat": 4,
 "nbformat_minor": 2
}
