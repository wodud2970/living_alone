{
 "cells": [
  {
   "cell_type": "code",
   "execution_count": 5,
   "metadata": {},
   "outputs": [
    {
     "data": {
      "text/plain": [
       "98"
      ]
     },
     "execution_count": 5,
     "metadata": {},
     "output_type": "execute_result"
    }
   ],
   "source": [
    "import pandas as pd\n",
    "#빌라주택, 원룸투룸  데이터 가져오기 \n",
    "data = pd.read_csv('../preprocessing_data/최종/living_alone.csv')\n",
    "data.head()\n",
    "len(data)"
   ]
  },
  {
   "cell_type": "code",
   "execution_count": 98,
   "metadata": {},
   "outputs": [
    {
     "name": "stdout",
     "output_type": "stream",
     "text": [
      "좌표 : 37.5213956191,126.8963096106, 원 갯수 21\n",
      "1\n"
     ]
    },
    {
     "ename": "AttributeError",
     "evalue": "'NoneType' object has no attribute 'text'",
     "output_type": "error",
     "traceback": [
      "\u001b[1;31m---------------------------------------------------------------------------\u001b[0m",
      "\u001b[1;31mAttributeError\u001b[0m                            Traceback (most recent call last)",
      "Cell \u001b[1;32mIn[98], line 124\u001b[0m\n\u001b[0;32m    122\u001b[0m     circle_id \u001b[39m=\u001b[39m i[\u001b[39m'\u001b[39m\u001b[39mid\u001b[39m\u001b[39m'\u001b[39m]\n\u001b[0;32m    123\u001b[0m     circle_num \u001b[39m=\u001b[39m i\u001b[39m.\u001b[39mselect_one(\u001b[39m'\u001b[39m\u001b[39mspan.sale_number\u001b[39m\u001b[39m'\u001b[39m)\u001b[39m.\u001b[39mtext\u001b[39m.\u001b[39msplit(\u001b[39m'\u001b[39m\u001b[39m개\u001b[39m\u001b[39m'\u001b[39m)[\u001b[39m0\u001b[39m]\n\u001b[1;32m--> 124\u001b[0m     boodongsan_data\u001b[39m.\u001b[39mextend(circle_data_crawling(circle_id,\u001b[39mint\u001b[39;49m(circle_num)))\n\u001b[0;32m    125\u001b[0m     \u001b[39mprint\u001b[39m(\u001b[39mlen\u001b[39m(boodongsan_data))\n\u001b[0;32m    126\u001b[0m \u001b[39m# except:\u001b[39;00m\n\u001b[0;32m    127\u001b[0m \u001b[39m#     break\u001b[39;00m\n",
      "Cell \u001b[1;32mIn[98], line 32\u001b[0m, in \u001b[0;36mcircle_data_crawling\u001b[1;34m(circle_id, circle_num)\u001b[0m\n\u001b[0;32m     29\u001b[0m piterpen_lst \u001b[39m=\u001b[39m []\n\u001b[0;32m     31\u001b[0m \u001b[39mfor\u001b[39;00m num, string \u001b[39min\u001b[39;00m \u001b[39menumerate\u001b[39m(piterpen_soup\u001b[39m.\u001b[39mfind_all(\u001b[39m'\u001b[39m\u001b[39mdiv\u001b[39m\u001b[39m'\u001b[39m, class_ \u001b[39m=\u001b[39m \u001b[39m'\u001b[39m\u001b[39mitem_inner\u001b[39m\u001b[39m'\u001b[39m), start \u001b[39m=\u001b[39m \u001b[39m1\u001b[39m):\n\u001b[1;32m---> 32\u001b[0m     \u001b[39mif\u001b[39;00m (\u001b[39m'\u001b[39m\u001b[39m중개사\u001b[39m\u001b[39m'\u001b[39m \u001b[39min\u001b[39;00m string\u001b[39m.\u001b[39;49mfind(\u001b[39m'\u001b[39;49m\u001b[39mdiv\u001b[39;49m\u001b[39m'\u001b[39;49m, class_\u001b[39m=\u001b[39;49m \u001b[39m'\u001b[39;49m\u001b[39mlabel_area\u001b[39;49m\u001b[39m'\u001b[39;49m)\u001b[39m.\u001b[39;49mtext):\n\u001b[0;32m     33\u001b[0m         data \u001b[39m=\u001b[39m defaultdict(\u001b[39mstr\u001b[39m)\n\u001b[0;32m     34\u001b[0m         \u001b[39m#피터팬, 중개소 2곳은 목록값만 저장\u001b[39;00m\n",
      "\u001b[1;31mAttributeError\u001b[0m: 'NoneType' object has no attribute 'text'"
     ]
    }
   ],
   "source": [
    "from bs4 import BeautifulSoup as bs\n",
    "from selenium.webdriver.common.keys import Keys\n",
    "from selenium import webdriver\n",
    "import time\n",
    "from collections import defaultdict\n",
    "from selenium import webdriver\n",
    "import random\n",
    "\n",
    "def circle_data_crawling(circle_id, circle_num):\n",
    "    lst = []\n",
    "    #피터팬은 걸러놔야해 \n",
    "\n",
    "    try:\n",
    "        #아이디가 없는것도 있다 그런거는 스킵\n",
    "        driver.find_element_by_xpath(f'//*[@id=\"{circle_id}\"]').send_keys(Keys.ENTER)\n",
    "    except:\n",
    "        return []\n",
    "    #밑으로 내려주기 내려주는거 횟수 저장하기 \n",
    "    for _ in range(((circle_num // 20 )) * 5):\n",
    "        itemlist = driver.find_element_by_xpath('//*[@id=\"listContents1\"]/div')\n",
    "        driver.execute_script(\"arguments[0].scrollBy(0, document.body.scrollHeight)\", itemlist)\n",
    "        \n",
    "        #일정한 시간에 클릭을 하니까 벤하는거 같다 \n",
    "        time.sleep(0.5)\n",
    "    \n",
    "    time.sleep(0.5)\n",
    "    piterpen = driver.page_source\n",
    "    piterpen_soup = bs(piterpen, 'html.parser')\n",
    "    piterpen_lst = []\n",
    "    \n",
    "    for num, string in enumerate(piterpen_soup.find_all('div', class_ = 'item_inner'), start = 1):\n",
    "        if ('중개사' in string.find('div', class_= 'label_area').text):\n",
    "            data = defaultdict(str)\n",
    "            #피터팬, 중개소 2곳은 목록값만 저장\n",
    "            data['제목'] = string.find('div', class_ = 'item_title').text\n",
    "            data['가격'] = string.find('div', class_ = 'price_line').text\n",
    "            data['소제목'] = string.find('div', class_ = 'info_area').text\n",
    "            data['부제'] = string.find('div', class_ = 'tag_area').text\n",
    "            # data['공인중개소'] = string.find('div', class_ = 'cp_area').text\n",
    "            lst.append(data)\n",
    "            piterpen_lst.append(num)\n",
    "            continue\n",
    "\n",
    "        if ('피터팬' in string.find('div', class_ = 'cp_area').find('a').text):\n",
    "\n",
    "            data = defaultdict(str)\n",
    "            #피터팬, 중개소 2곳은 목록값만 저장\n",
    "            data['제목'] = string.find('div', class_ = 'item_title').text\n",
    "            data['가격'] = string.find('div', class_ = 'price_line').text\n",
    "            data['소제목'] = string.find('div', class_ = 'info_area').text\n",
    "            data['부제'] = string.find('div', class_ = 'tag_area').text\n",
    "            data['공인중개소'] = string.find('div', class_ = 'cp_area').text\n",
    "            lst.append(data)\n",
    "            piterpen_lst.append(num)\n",
    "    \n",
    "\n",
    "    for i in range(1, circle_num + 1):\n",
    "        if i in piterpen_lst: continue\n",
    "        data = defaultdict(str)\n",
    "        # number = random.uniform(0, 3)\n",
    "        # time.sleep(number)\n",
    "        #제목누르기 사진이 있는거와 없는거가 찾이가 난다 \n",
    "        try:\n",
    "            driver.find_element_by_xpath(f'//*[@id=\"listContents1\"]/div/div/div/div[{i}]/div/a/div[1]/span').click()\n",
    "            #사진 없음\n",
    "            data['사진'] = 0\n",
    "        except:\n",
    "            driver.find_element_by_xpath(f'//*[@id=\"listContents1\"]/div/div/div/div[{i}]/div/a[2]/div[1]/span').click()\n",
    "            data['사진'] = 1\n",
    "\n",
    "        time.sleep(0.5)\n",
    "        estimate = driver.page_source\n",
    "        estimate_soup = bs(estimate, 'html.parser')\n",
    "        #옆창이 안나오는 경우도 있다 중개소가 여러곳인곳\n",
    "        try:\n",
    "            detail_estimate = estimate_soup.find('div', class_ = 'detail_contents_inner')\n",
    "\n",
    "            data['제목'] = detail_estimate.find('h4').text # 제목\n",
    "            data['가격'] = detail_estimate.find('div', class_ ='info_article_price' ).text # 가격\n",
    "            data['소제목'] = detail_estimate.find('div', class_ ='info_article_feature' ).text #소제목\n",
    "            \n",
    "            # 표 데이터 \n",
    "            for i in detail_estimate.find('div', class_ = 'detail_box--summary').find_all('tr'):\n",
    "                for title, content  in zip(i.find_all('th'), i.find_all('td')):\n",
    "                    data[title.text] = content.text\n",
    "        except: #중개사가 2곳\n",
    "            #소 제목만 가져오자 \n",
    "            \n",
    "\n",
    "            detail_estimate = estimate_soup.find('div', class_ = 'detail_contents_inner')\n",
    "            data['제목'] = detail_estimate.find('h4').text # 제목\n",
    "            data['가격'] = detail_estimate.find('div', class_ ='info_article_price' ).text # 가격\n",
    "            data['소제목'] = detail_estimate.find('div', class_ ='info_article_feature' ).text #소제목\n",
    "            # 표 데이터 \n",
    "            for i in detail_estimate.find('div', class_ = 'detail_box--summary').find_all('tr'):\n",
    "                for title, content  in zip(i.find_all('th'), i.find_all('td')):\n",
    "                    data[title.text] = content.text\n",
    "\n",
    "\n",
    "\n",
    "        #데이터 저장\n",
    "        lst.append(data)\n",
    "\n",
    "    return lst\n",
    "\n",
    "boodongsan_data = []\n",
    "user_agent = 'Mozilla/5.0 (Windows NT 10.0; Win64; x64) AppleWebKit/537.36 (KHTML, like Gecko) Chrome/108.0.0.0 Safari/537.36'\n",
    "options = webdriver.ChromeOptions()\n",
    "options.add_argument(\"--start-maximized\")\n",
    "options.add_argument('--user-agent=' + user_agent)\n",
    "driver = webdriver.Chrome('../chromedriver.exe', options= options)\n",
    "\n",
    "for x, y in zip(data['x'], data['y']):\n",
    "    driver.get(f'https://new.land.naver.com/rooms?ms={y},{x},19&a=APT:OPST:ABYG:OBYG:GM:OR:VL:DDDGG:JWJT:SGJT:HOJT&e=RETAIL&aa=SMALLSPCRENT&ad=true')\n",
    "    time.sleep(3)\n",
    "    page = driver.page_source\n",
    "    soup = bs(page, 'html.parser')\n",
    "    circle = soup.find('div',class_ = 'map_area').select('div > div > a')\n",
    "    print(f'좌표 : {y},{x}, 원 갯수 {len(circle)}')\n",
    "    for i in circle:\n",
    "        # try:\n",
    "            circle_id = i['id']\n",
    "            circle_num = i.select_one('span.sale_number').text.split('개')[0]\n",
    "            boodongsan_data.extend(circle_data_crawling(circle_id,int(circle_num)))\n",
    "            print(len(boodongsan_data))\n",
    "        # except:\n",
    "        #     break\n",
    "        \n",
    "\n",
    "boodongsan_data = pd.DataFrame(boodongsan_data)"
   ]
  },
  {
   "cell_type": "code",
   "execution_count": 23,
   "metadata": {},
   "outputs": [
    {
     "ename": "KeyError",
     "evalue": "'id'",
     "output_type": "error",
     "traceback": [
      "\u001b[1;31m---------------------------------------------------------------------------\u001b[0m",
      "\u001b[1;31mKeyError\u001b[0m                                  Traceback (most recent call last)",
      "Cell \u001b[1;32mIn[23], line 24\u001b[0m\n\u001b[0;32m     21\u001b[0m circle \u001b[39m=\u001b[39m soup\u001b[39m.\u001b[39mfind(\u001b[39m'\u001b[39m\u001b[39mdiv\u001b[39m\u001b[39m'\u001b[39m,class_ \u001b[39m=\u001b[39m \u001b[39m'\u001b[39m\u001b[39mmap_area\u001b[39m\u001b[39m'\u001b[39m)\u001b[39m.\u001b[39mselect(\u001b[39m'\u001b[39m\u001b[39mdiv > div > a\u001b[39m\u001b[39m'\u001b[39m)\n\u001b[0;32m     22\u001b[0m \u001b[39mfor\u001b[39;00m i \u001b[39min\u001b[39;00m circle:\n\u001b[1;32m---> 24\u001b[0m             circle_id \u001b[39m=\u001b[39m i[\u001b[39m'\u001b[39;49m\u001b[39mid\u001b[39;49m\u001b[39m'\u001b[39;49m]\n\u001b[0;32m     25\u001b[0m             circle_num \u001b[39m=\u001b[39m i\u001b[39m.\u001b[39mselect_one(\u001b[39m'\u001b[39m\u001b[39mspan.sale_number\u001b[39m\u001b[39m'\u001b[39m)\u001b[39m.\u001b[39mtext\u001b[39m.\u001b[39msplit(\u001b[39m'\u001b[39m\u001b[39m개\u001b[39m\u001b[39m'\u001b[39m)[\u001b[39m0\u001b[39m]\n",
      "File \u001b[1;32mc:\\Users\\parkjaeyoung\\anaconda3\\envs\\living_alone\\lib\\site-packages\\bs4\\element.py:1519\u001b[0m, in \u001b[0;36mTag.__getitem__\u001b[1;34m(self, key)\u001b[0m\n\u001b[0;32m   1516\u001b[0m \u001b[39mdef\u001b[39;00m \u001b[39m__getitem__\u001b[39m(\u001b[39mself\u001b[39m, key):\n\u001b[0;32m   1517\u001b[0m     \u001b[39m\"\"\"tag[key] returns the value of the 'key' attribute for the Tag,\u001b[39;00m\n\u001b[0;32m   1518\u001b[0m \u001b[39m    and throws an exception if it's not there.\"\"\"\u001b[39;00m\n\u001b[1;32m-> 1519\u001b[0m     \u001b[39mreturn\u001b[39;00m \u001b[39mself\u001b[39;49m\u001b[39m.\u001b[39;49mattrs[key]\n",
      "\u001b[1;31mKeyError\u001b[0m: 'id'"
     ]
    }
   ],
   "source": [
    "from bs4 import BeautifulSoup as bs\n",
    "from selenium.webdriver.common.keys import Keys\n",
    "from selenium import webdriver\n",
    "import time\n",
    "from collections import defaultdict\n",
    "from selenium import webdriver\n",
    "import random\n",
    "\n",
    "boodongsan_data = []\n",
    "user_agent = 'Mozilla/5.0 (Windows NT 10.0; Win64; x64) AppleWebKit/537.36 (KHTML, like Gecko) Chrome/108.0.0.0 Safari/537.36'\n",
    "options = webdriver.ChromeOptions()\n",
    "options.add_argument(\"--start-maximized\")\n",
    "options.add_argument('--user-agent=' + user_agent)\n",
    "driver = webdriver.Chrome('../chromedriver.exe', options= options)\n",
    "\n",
    "driver.get(f'https://new.land.naver.com/rooms?ms=37.5247754,126.9034063,19&a=APT:OPST:ABYG:OBYG:GM:OR:VL:DDDGG:JWJT:SGJT:HOJT&e=RETAIL&aa=SMALLSPCRENT&ad=true')\n",
    "driver.implicitly_wait(5)\n",
    "time.sleep(0.5)\n",
    "page = driver.page_source\n",
    "soup = bs(page, 'html.parser')\n",
    "circle = soup.find('div',class_ = 'map_area').select('div > div > a')\n",
    "for i in circle:\n",
    "\n",
    "            circle_id = i['id']\n",
    "            circle_num = i.select_one('span.sale_number').text.split('개')[0]\n"
   ]
  },
  {
   "cell_type": "code",
   "execution_count": 119,
   "metadata": {},
   "outputs": [
    {
     "data": {
      "text/plain": [
       "'확인22.11.22.'"
      ]
     },
     "execution_count": 119,
     "metadata": {},
     "output_type": "execute_result"
    }
   ],
   "source": [
    "estimate = driver.page_source\n",
    "estimate_soup = bs(estimate, 'html.parser')\n",
    "estimate_soup.find_all('div', class_= 'label_area')[6].text\n"
   ]
  },
  {
   "cell_type": "code",
   "execution_count": 130,
   "metadata": {},
   "outputs": [
    {
     "name": "stdout",
     "output_type": "stream",
     "text": [
      "확인22.12.13.\n",
      "no\n",
      "확인22.12.20.\n",
      "no\n",
      "확인22.12.15.\n",
      "no\n",
      "확인22.12.14.\n",
      "no\n",
      "확인22.12.14.중개사2곳\n",
      "yes\n"
     ]
    },
    {
     "ename": "AttributeError",
     "evalue": "'NoneType' object has no attribute 'text'",
     "output_type": "error",
     "traceback": [
      "\u001b[1;31m---------------------------------------------------------------------------\u001b[0m",
      "\u001b[1;31mAttributeError\u001b[0m                            Traceback (most recent call last)",
      "Cell \u001b[1;32mIn[130], line 4\u001b[0m\n\u001b[0;32m      2\u001b[0m piterpen_soup \u001b[39m=\u001b[39m bs(piterpen, \u001b[39m'\u001b[39m\u001b[39mhtml.parser\u001b[39m\u001b[39m'\u001b[39m)\n\u001b[0;32m      3\u001b[0m \u001b[39mfor\u001b[39;00m i \u001b[39min\u001b[39;00m \u001b[39mrange\u001b[39m(\u001b[39m10\u001b[39m):\n\u001b[1;32m----> 4\u001b[0m     \u001b[39mprint\u001b[39m(piterpen_soup\u001b[39m.\u001b[39;49mfind_all(\u001b[39m'\u001b[39;49m\u001b[39mdiv\u001b[39;49m\u001b[39m'\u001b[39;49m, class_ \u001b[39m=\u001b[39;49m \u001b[39m'\u001b[39;49m\u001b[39mitem_inner\u001b[39;49m\u001b[39m'\u001b[39;49m)[i]\u001b[39m.\u001b[39;49mfind(\u001b[39m'\u001b[39;49m\u001b[39mdiv\u001b[39;49m\u001b[39m'\u001b[39;49m, class_\u001b[39m=\u001b[39;49m \u001b[39m'\u001b[39;49m\u001b[39mlabel_area\u001b[39;49m\u001b[39m'\u001b[39;49m)\u001b[39m.\u001b[39;49mtext)\n\u001b[0;32m      5\u001b[0m     \u001b[39mif\u001b[39;00m \u001b[39m'\u001b[39m\u001b[39m중개사\u001b[39m\u001b[39m'\u001b[39m \u001b[39min\u001b[39;00m piterpen_soup\u001b[39m.\u001b[39mfind_all(\u001b[39m'\u001b[39m\u001b[39mdiv\u001b[39m\u001b[39m'\u001b[39m, class_ \u001b[39m=\u001b[39m \u001b[39m'\u001b[39m\u001b[39mitem_inner\u001b[39m\u001b[39m'\u001b[39m)[i]\u001b[39m.\u001b[39mfind(\u001b[39m'\u001b[39m\u001b[39mdiv\u001b[39m\u001b[39m'\u001b[39m, class_\u001b[39m=\u001b[39m \u001b[39m'\u001b[39m\u001b[39mlabel_area\u001b[39m\u001b[39m'\u001b[39m)\u001b[39m.\u001b[39mtext:\n\u001b[0;32m      6\u001b[0m         \u001b[39mprint\u001b[39m(\u001b[39m'\u001b[39m\u001b[39myes\u001b[39m\u001b[39m'\u001b[39m)\n",
      "\u001b[1;31mAttributeError\u001b[0m: 'NoneType' object has no attribute 'text'"
     ]
    }
   ],
   "source": [
    "piterpen = driver.page_source\n",
    "piterpen_soup = bs(piterpen, 'html.parser')\n",
    "for i in range(10):\n",
    "    print(piterpen_soup.find_all('div', class_ = 'item_inner')[i].find('div', class_= 'label_area').text)\n",
    "    if '중개사' in piterpen_soup.find_all('div', class_ = 'item_inner')[i].find('div', class_= 'label_area').text:\n",
    "        print('yes')\n",
    "    else:\n",
    "        print('no')"
   ]
  }
 ],
 "metadata": {
  "kernelspec": {
   "display_name": "living_alone",
   "language": "python",
   "name": "python3"
  },
  "language_info": {
   "codemirror_mode": {
    "name": "ipython",
    "version": 3
   },
   "file_extension": ".py",
   "mimetype": "text/x-python",
   "name": "python",
   "nbconvert_exporter": "python",
   "pygments_lexer": "ipython3",
   "version": "3.10.8"
  },
  "orig_nbformat": 4,
  "vscode": {
   "interpreter": {
    "hash": "89b079bc2498d1729ed1c33943d6feeba985ed2e70d38c94303e6a339907e651"
   }
  }
 },
 "nbformat": 4,
 "nbformat_minor": 2
}
