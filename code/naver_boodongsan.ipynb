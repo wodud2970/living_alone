{
 "cells": [
  {
   "cell_type": "code",
   "execution_count": null,
   "metadata": {},
   "outputs": [],
   "source": [
    "import pandas as pd\n",
    "#내가 뽑아낼 죄표 구하기 \n",
    "# data = pd.read_csv('../preprocessing_data/최종/living_alone.csv')\n",
    "data = pd.read_csv('../preprocessing_data/최종/union_area.csv', encoding='cp949')\n",
    "\n",
    "data.head()\n",
    "\n",
    "\n",
    "#크롤링 할때 좌표값도 같이 넣어주기 "
   ]
  },
  {
   "cell_type": "code",
   "execution_count": 13,
   "metadata": {},
   "outputs": [
    {
     "name": "stdout",
     "output_type": "stream",
     "text": [
      "좌표 : 37.5674586107,126.9796562972, 원 갯수 4 463\n"
     ]
    },
    {
     "name": "stderr",
     "output_type": "stream",
     "text": [
      "464it [3:05:36,  3.43s/it]"
     ]
    },
    {
     "name": "stdout",
     "output_type": "stream",
     "text": [
      "좌표 : 37.5682552772,126.9784687595, 원 갯수 4 464\n"
     ]
    },
    {
     "name": "stderr",
     "output_type": "stream",
     "text": [
      "465it [3:05:38,  3.07s/it]"
     ]
    },
    {
     "name": "stdout",
     "output_type": "stream",
     "text": [
      "좌표 : 37.5678013999,126.9821577316, 원 갯수 4 465\n"
     ]
    },
    {
     "name": "stderr",
     "output_type": "stream",
     "text": [
      "466it [3:05:41,  2.82s/it]"
     ]
    },
    {
     "name": "stdout",
     "output_type": "stream",
     "text": [
      "좌표 : 37.5679281073,126.9865495382, 원 갯수 4 466\n"
     ]
    },
    {
     "name": "stderr",
     "output_type": "stream",
     "text": [
      "467it [3:05:43,  2.66s/it]"
     ]
    },
    {
     "name": "stdout",
     "output_type": "stream",
     "text": [
      "좌표 : 37.568320266,127.0204510856, 원 갯수 4 467\n"
     ]
    },
    {
     "name": "stderr",
     "output_type": "stream",
     "text": [
      "468it [3:05:45,  2.53s/it]"
     ]
    },
    {
     "name": "stdout",
     "output_type": "stream",
     "text": [
      "좌표 : 37.543473974,127.0501837534, 원 갯수 4 468\n"
     ]
    },
    {
     "name": "stderr",
     "output_type": "stream",
     "text": [
      "469it [3:05:48,  2.47s/it]"
     ]
    },
    {
     "name": "stdout",
     "output_type": "stream",
     "text": [
      "좌표 : 37.542147575,127.0545279208, 원 갯수 4 469\n"
     ]
    },
    {
     "name": "stderr",
     "output_type": "stream",
     "text": [
      "470it [3:05:50,  2.39s/it]"
     ]
    },
    {
     "name": "stdout",
     "output_type": "stream",
     "text": [
      "좌표 : 37.539100379,127.0709175274, 원 갯수 4 470\n"
     ]
    },
    {
     "name": "stderr",
     "output_type": "stream",
     "text": [
      "471it [3:05:52,  2.33s/it]"
     ]
    },
    {
     "name": "stdout",
     "output_type": "stream",
     "text": [
      "좌표 : 37.516897771,127.1036164321, 원 갯수 4 471\n"
     ]
    },
    {
     "name": "stderr",
     "output_type": "stream",
     "text": [
      "472it [3:05:54,  2.30s/it]"
     ]
    },
    {
     "name": "stdout",
     "output_type": "stream",
     "text": [
      "좌표 : 37.5184753943,127.1034163666, 원 갯수 4 472\n"
     ]
    },
    {
     "name": "stderr",
     "output_type": "stream",
     "text": [
      "473it [3:05:56,  2.29s/it]"
     ]
    },
    {
     "name": "stdout",
     "output_type": "stream",
     "text": [
      "좌표 : 37.5132052322,127.1018242238, 원 갯수 4 473\n"
     ]
    },
    {
     "name": "stderr",
     "output_type": "stream",
     "text": [
      "474it [3:05:59,  2.30s/it]"
     ]
    },
    {
     "name": "stdout",
     "output_type": "stream",
     "text": [
      "좌표 : 37.5147828732,127.1016241226, 원 갯수 4 474\n"
     ]
    },
    {
     "name": "stderr",
     "output_type": "stream",
     "text": [
      "475it [3:06:01,  2.27s/it]"
     ]
    },
    {
     "name": "stdout",
     "output_type": "stream",
     "text": [
      "좌표 : 37.5512549213,127.1313177614, 원 갯수 4 475\n"
     ]
    },
    {
     "name": "stderr",
     "output_type": "stream",
     "text": [
      "476it [3:06:03,  2.25s/it]"
     ]
    },
    {
     "name": "stdout",
     "output_type": "stream",
     "text": [
      "좌표 : 37.5385707383,127.12473132, 원 갯수 4 476\n"
     ]
    },
    {
     "name": "stderr",
     "output_type": "stream",
     "text": [
      "477it [3:06:05,  2.25s/it]"
     ]
    },
    {
     "name": "stdout",
     "output_type": "stream",
     "text": [
      "좌표 : 37.5154521269,127.1081389232, 원 갯수 4 477\n"
     ]
    },
    {
     "name": "stderr",
     "output_type": "stream",
     "text": [
      "478it [3:06:08,  2.26s/it]"
     ]
    },
    {
     "name": "stdout",
     "output_type": "stream",
     "text": [
      "좌표 : 37.5170297579,127.1079389632, 원 갯수 4 478\n"
     ]
    },
    {
     "name": "stderr",
     "output_type": "stream",
     "text": [
      "479it [3:06:10,  2.25s/it]"
     ]
    },
    {
     "name": "stdout",
     "output_type": "stream",
     "text": [
      "좌표 : 37.5132052322,127.1018242238, 원 갯수 4 479\n"
     ]
    },
    {
     "name": "stderr",
     "output_type": "stream",
     "text": [
      "480it [3:06:12,  2.24s/it]"
     ]
    },
    {
     "name": "stdout",
     "output_type": "stream",
     "text": [
      "좌표 : 37.5147828732,127.1016241226, 원 갯수 4 480\n"
     ]
    },
    {
     "name": "stderr",
     "output_type": "stream",
     "text": [
      "481it [3:06:14,  2.24s/it]"
     ]
    },
    {
     "name": "stdout",
     "output_type": "stream",
     "text": [
      "좌표 : 37.5092558852,127.1052119315, 원 갯수 4 481\n"
     ]
    },
    {
     "name": "stderr",
     "output_type": "stream",
     "text": [
      "482it [3:06:17,  2.24s/it]"
     ]
    },
    {
     "name": "stdout",
     "output_type": "stream",
     "text": [
      "좌표 : 37.4924152986,127.1180047288, 원 갯수 4 482\n"
     ]
    },
    {
     "name": "stderr",
     "output_type": "stream",
     "text": [
      "483it [3:06:19,  2.25s/it]"
     ]
    },
    {
     "name": "stdout",
     "output_type": "stream",
     "text": [
      "좌표 : 37.4888812627,127.1201136259, 원 갯수 4 483\n"
     ]
    },
    {
     "name": "stderr",
     "output_type": "stream",
     "text": [
      "484it [3:06:21,  2.25s/it]"
     ]
    },
    {
     "name": "stdout",
     "output_type": "stream",
     "text": [
      "좌표 : 37.4323304903,127.1286929861, 원 갯수 4 484\n"
     ]
    },
    {
     "name": "stderr",
     "output_type": "stream",
     "text": [
      "485it [3:06:23,  2.27s/it]"
     ]
    },
    {
     "name": "stdout",
     "output_type": "stream",
     "text": [
      "좌표 : 37.4910785134,127.0067039911, 원 갯수 4 485\n"
     ]
    },
    {
     "name": "stderr",
     "output_type": "stream",
     "text": [
      "486it [3:06:26,  2.29s/it]"
     ]
    },
    {
     "name": "stdout",
     "output_type": "stream",
     "text": [
      "좌표 : 37.5624728452,127.0375642864, 원 갯수 4 486\n"
     ]
    },
    {
     "name": "stderr",
     "output_type": "stream",
     "text": [
      "487it [3:06:28,  2.29s/it]"
     ]
    },
    {
     "name": "stdout",
     "output_type": "stream",
     "text": [
      "좌표 : 37.564059753,127.0336601691, 원 갯수 4 487\n"
     ]
    },
    {
     "name": "stderr",
     "output_type": "stream",
     "text": [
      "488it [3:06:30,  2.28s/it]"
     ]
    },
    {
     "name": "stdout",
     "output_type": "stream",
     "text": [
      "좌표 : 37.5735004938,127.0229428992, 원 갯수 4 488\n"
     ]
    },
    {
     "name": "stderr",
     "output_type": "stream",
     "text": [
      "489it [3:06:33,  2.28s/it]"
     ]
    },
    {
     "name": "stdout",
     "output_type": "stream",
     "text": [
      "좌표 : 37.5119608522,126.8851896675, 원 갯수 4 489\n"
     ]
    },
    {
     "name": "stderr",
     "output_type": "stream",
     "text": [
      "490it [3:06:35, 22.85s/it]"
     ]
    },
    {
     "name": "stdout",
     "output_type": "stream",
     "text": [
      "좌표 : 37.5742826049,127.0385255699, 원 갯수 4 490\n"
     ]
    },
    {
     "name": "stderr",
     "output_type": "stream",
     "text": [
      "\n"
     ]
    },
    {
     "data": {
      "text/html": [
       "<div>\n",
       "<style scoped>\n",
       "    .dataframe tbody tr th:only-of-type {\n",
       "        vertical-align: middle;\n",
       "    }\n",
       "\n",
       "    .dataframe tbody tr th {\n",
       "        vertical-align: top;\n",
       "    }\n",
       "\n",
       "    .dataframe thead th {\n",
       "        text-align: right;\n",
       "    }\n",
       "</style>\n",
       "<table border=\"1\" class=\"dataframe\">\n",
       "  <thead>\n",
       "    <tr style=\"text-align: right;\">\n",
       "      <th></th>\n",
       "      <th>x</th>\n",
       "      <th>y</th>\n",
       "      <th>마트</th>\n",
       "      <th>학교</th>\n",
       "      <th>사진</th>\n",
       "      <th>제목</th>\n",
       "      <th>가격</th>\n",
       "      <th>소제목</th>\n",
       "      <th>소재지</th>\n",
       "      <th>매물특징</th>\n",
       "      <th>...</th>\n",
       "      <th>총세대수</th>\n",
       "      <th>용도지역</th>\n",
       "      <th>주구조</th>\n",
       "      <th>전세금 반환보증</th>\n",
       "      <th>재건축/재개발</th>\n",
       "      <th>준공인가일</th>\n",
       "      <th>사용검사일</th>\n",
       "      <th>대지/연면적</th>\n",
       "      <th>건축/전용면적</th>\n",
       "      <th>지상층/지하층</th>\n",
       "    </tr>\n",
       "  </thead>\n",
       "  <tbody>\n",
       "    <tr>\n",
       "      <th>0</th>\n",
       "      <td>126.963506</td>\n",
       "      <td>37.47709</td>\n",
       "      <td>0</td>\n",
       "      <td>0</td>\n",
       "      <td>0</td>\n",
       "      <td>일반원룸6층</td>\n",
       "      <td>전세2억 2,000(2,582만원/3.3㎡)</td>\n",
       "      <td>해당층/총층: 6/10층오픈형/단층 전용 면적:17.38㎡</td>\n",
       "      <td>서울시 관악구 봉천동 1660-12</td>\n",
       "      <td>신축, 창이 넓고, 깔끔하고, 혼자 살기 좋은 방.</td>\n",
       "      <td>...</td>\n",
       "      <td>NaN</td>\n",
       "      <td>NaN</td>\n",
       "      <td>NaN</td>\n",
       "      <td>NaN</td>\n",
       "      <td>NaN</td>\n",
       "      <td>NaN</td>\n",
       "      <td>NaN</td>\n",
       "      <td>NaN</td>\n",
       "      <td>NaN</td>\n",
       "      <td>NaN</td>\n",
       "    </tr>\n",
       "    <tr>\n",
       "      <th>1</th>\n",
       "      <td>126.963506</td>\n",
       "      <td>37.47709</td>\n",
       "      <td>0</td>\n",
       "      <td>0</td>\n",
       "      <td>0</td>\n",
       "      <td>일반원룸6층</td>\n",
       "      <td>전세2억 2,000(2,582만원/3.3㎡)</td>\n",
       "      <td>해당층/총층: 6/10층오픈형/단층 전용 면적:17.38㎡</td>\n",
       "      <td>서울시 관악구 봉천동 1660-12</td>\n",
       "      <td>신축, 창이 넓고, 깔끔하고, 혼자 살기 좋은 방.</td>\n",
       "      <td>...</td>\n",
       "      <td>NaN</td>\n",
       "      <td>NaN</td>\n",
       "      <td>NaN</td>\n",
       "      <td>NaN</td>\n",
       "      <td>NaN</td>\n",
       "      <td>NaN</td>\n",
       "      <td>NaN</td>\n",
       "      <td>NaN</td>\n",
       "      <td>NaN</td>\n",
       "      <td>NaN</td>\n",
       "    </tr>\n",
       "    <tr>\n",
       "      <th>2</th>\n",
       "      <td>126.963506</td>\n",
       "      <td>37.47709</td>\n",
       "      <td>0</td>\n",
       "      <td>0</td>\n",
       "      <td>0</td>\n",
       "      <td>동림 1동고층</td>\n",
       "      <td>월세1,000/75</td>\n",
       "      <td>북향복도식 계약/전용 면적:42.35㎡/21.86㎡</td>\n",
       "      <td>NaN</td>\n",
       "      <td>복층오피스텔 입니다</td>\n",
       "      <td>...</td>\n",
       "      <td>NaN</td>\n",
       "      <td>NaN</td>\n",
       "      <td>NaN</td>\n",
       "      <td>NaN</td>\n",
       "      <td>NaN</td>\n",
       "      <td>NaN</td>\n",
       "      <td>NaN</td>\n",
       "      <td>NaN</td>\n",
       "      <td>NaN</td>\n",
       "      <td>NaN</td>\n",
       "    </tr>\n",
       "    <tr>\n",
       "      <th>3</th>\n",
       "      <td>126.963506</td>\n",
       "      <td>37.47709</td>\n",
       "      <td>0</td>\n",
       "      <td>0</td>\n",
       "      <td>0</td>\n",
       "      <td>동림 1동고층</td>\n",
       "      <td>월세1,000/75</td>\n",
       "      <td>북향복도식 계약/전용 면적:42.35㎡/21.86㎡</td>\n",
       "      <td>NaN</td>\n",
       "      <td>복층오피스텔 입니다</td>\n",
       "      <td>...</td>\n",
       "      <td>NaN</td>\n",
       "      <td>NaN</td>\n",
       "      <td>NaN</td>\n",
       "      <td>NaN</td>\n",
       "      <td>NaN</td>\n",
       "      <td>NaN</td>\n",
       "      <td>NaN</td>\n",
       "      <td>NaN</td>\n",
       "      <td>NaN</td>\n",
       "      <td>NaN</td>\n",
       "    </tr>\n",
       "    <tr>\n",
       "      <th>4</th>\n",
       "      <td>126.963506</td>\n",
       "      <td>37.47709</td>\n",
       "      <td>0</td>\n",
       "      <td>0</td>\n",
       "      <td>0</td>\n",
       "      <td>오피스텔 o리더스빌o6층</td>\n",
       "      <td>월세1,000/63</td>\n",
       "      <td>해당층/총층: 6/6층분리형/단층 전용 면적:20㎡</td>\n",
       "      <td>서울시 관악구 봉천동 1660-2</td>\n",
       "      <td>낙성대역 초역세권 대로변 오피스텔 1년계약</td>\n",
       "      <td>...</td>\n",
       "      <td>NaN</td>\n",
       "      <td>NaN</td>\n",
       "      <td>NaN</td>\n",
       "      <td>NaN</td>\n",
       "      <td>NaN</td>\n",
       "      <td>NaN</td>\n",
       "      <td>NaN</td>\n",
       "      <td>NaN</td>\n",
       "      <td>NaN</td>\n",
       "      <td>NaN</td>\n",
       "    </tr>\n",
       "  </tbody>\n",
       "</table>\n",
       "<p>5 rows × 42 columns</p>\n",
       "</div>"
      ],
      "text/plain": [
       "            x         y  마트  학교 사진             제목                        가격  \\\n",
       "0  126.963506  37.47709   0   0  0         일반원룸6층  전세2억 2,000(2,582만원/3.3㎡)   \n",
       "1  126.963506  37.47709   0   0  0         일반원룸6층  전세2억 2,000(2,582만원/3.3㎡)   \n",
       "2  126.963506  37.47709   0   0  0        동림 1동고층                월세1,000/75   \n",
       "3  126.963506  37.47709   0   0  0        동림 1동고층                월세1,000/75   \n",
       "4  126.963506  37.47709   0   0  0  오피스텔 o리더스빌o6층                월세1,000/63   \n",
       "\n",
       "                                소제목                  소재지  \\\n",
       "0  해당층/총층: 6/10층오픈형/단층 전용 면적:17.38㎡  서울시 관악구 봉천동 1660-12   \n",
       "1  해당층/총층: 6/10층오픈형/단층 전용 면적:17.38㎡  서울시 관악구 봉천동 1660-12   \n",
       "2      북향복도식 계약/전용 면적:42.35㎡/21.86㎡                  NaN   \n",
       "3      북향복도식 계약/전용 면적:42.35㎡/21.86㎡                  NaN   \n",
       "4      해당층/총층: 6/6층분리형/단층 전용 면적:20㎡   서울시 관악구 봉천동 1660-2   \n",
       "\n",
       "                           매물특징  ... 총세대수 용도지역  주구조 전세금 반환보증 재건축/재개발 준공인가일  \\\n",
       "0  신축, 창이 넓고, 깔끔하고, 혼자 살기 좋은 방.  ...  NaN  NaN  NaN      NaN     NaN   NaN   \n",
       "1  신축, 창이 넓고, 깔끔하고, 혼자 살기 좋은 방.  ...  NaN  NaN  NaN      NaN     NaN   NaN   \n",
       "2                    복층오피스텔 입니다  ...  NaN  NaN  NaN      NaN     NaN   NaN   \n",
       "3                    복층오피스텔 입니다  ...  NaN  NaN  NaN      NaN     NaN   NaN   \n",
       "4       낙성대역 초역세권 대로변 오피스텔 1년계약  ...  NaN  NaN  NaN      NaN     NaN   NaN   \n",
       "\n",
       "  사용검사일 대지/연면적 건축/전용면적 지상층/지하층  \n",
       "0   NaN    NaN     NaN     NaN  \n",
       "1   NaN    NaN     NaN     NaN  \n",
       "2   NaN    NaN     NaN     NaN  \n",
       "3   NaN    NaN     NaN     NaN  \n",
       "4   NaN    NaN     NaN     NaN  \n",
       "\n",
       "[5 rows x 42 columns]"
      ]
     },
     "execution_count": 13,
     "metadata": {},
     "output_type": "execute_result"
    }
   ],
   "source": [
    "from bs4 import BeautifulSoup as bs\n",
    "from selenium.webdriver.common.keys import Keys\n",
    "from selenium import webdriver\n",
    "import time\n",
    "from collections import defaultdict\n",
    "import random\n",
    "from selenium import webdriver\n",
    "from webdriver_manager.chrome import ChromeDriverManager\n",
    "from selenium.webdriver.common.by import By\n",
    "from selenium.webdriver.common.keys import Keys\n",
    "from tqdm import tqdm\n",
    "\n",
    "def circle_data_crawling(circle_id, circle_num,where_x, where_y, school, mart):\n",
    "    lst = []\n",
    "    try:\n",
    "        #아이디가 없는것도 있다 그런거는 스킵\n",
    "        driver.find_element(By.XPATH,f'//*[@id=\"{circle_id}\"]').send_keys(Keys.ENTER)\n",
    "        time.sleep(0.5)\n",
    "    except Exception as e:\n",
    "        return []\n",
    "    #밑으로 내려주기 내려주는거 횟수 저장하기 \n",
    "    for _ in range(((circle_num // 20 )) * 5):\n",
    "        itemlist = driver.find_element(By.XPATH,'//*[@id=\"listContents1\"]/div')\n",
    "        driver.execute_script(\"arguments[0].scrollBy(0, document.body.scrollHeight)\", itemlist)\n",
    "        \n",
    "        #일정한 시간에 클릭을 하니까 벤하는거 같다 \n",
    "        time.sleep(0.5)\n",
    "    \n",
    "    time.sleep(0.5)\n",
    "    #피터팬은 주소랑 위치 따고 위치는 클릭 안하게 주소는 따로 저장하고 피터팬은 request로 정보따오자// 부동산 114는 뭐야 시발\n",
    "    piterpen = driver.page_source\n",
    "    piterpen_soup = bs(piterpen, 'html.parser')\n",
    "    piterpen_lst = []\n",
    "    \n",
    "\n",
    "    for i in range(1, circle_num + 1):\n",
    "        if i in piterpen_lst: continue\n",
    "        data = defaultdict(str)\n",
    "        #위경도 추가, 마트, 학교 여부 추가\n",
    "        data['x'] = where_x\n",
    "        data['y'] = where_y\n",
    "        data['마트'] = mart\n",
    "        data['학교'] = school\n",
    "        # number = random.uniform(0, 3)\n",
    "        # time.sleep(number)\n",
    "        #제목누르기 사진이 있는거와 없는거가 찾이가 난다 \n",
    "        try:\n",
    "            driver.find_element(By.XPATH,f'//*[@id=\"listContents1\"]/div/div/div/div[{i}]/div/a/div[1]/span').click()\n",
    "            #사진 없음\n",
    "            data['사진'] = '0'\n",
    "        except:\n",
    "            driver.find_element(By.XPATH,f'//*[@id=\"listContents1\"]/div/div/div/div[{i}]/div/a[2]/div[1]/span').click()\n",
    "            data['사진'] = '1'\n",
    "\n",
    "        time.sleep(0.5)\n",
    "        estimate = driver.page_source\n",
    "        estimate_soup = bs(estimate, 'html.parser')\n",
    "\n",
    "        #피터팬이거나 중개소가 2곳인곳은 그냥 스킵\n",
    "        try:\n",
    "            detail_estimate = estimate_soup.find('div', class_ = 'detail_contents_inner')\n",
    "\n",
    "            data['제목'] = detail_estimate.find('h4').text # 제목\n",
    "            data['가격'] = detail_estimate.find('div', class_ ='info_article_price' ).text # 가격\n",
    "            data['소제목'] = detail_estimate.find('div', class_ ='info_article_feature' ).text #소제목\n",
    "            \n",
    "            # 표 데이터 \n",
    "            # 소재지가 없는 곳은 따로 좌표를 기준으로 동까지 추가해줘야겠다\n",
    "            for i in detail_estimate.find('div', class_ = 'detail_box--summary').find_all('tr'):\n",
    "                for title, content  in zip(i.find_all('th'), i.find_all('td')):\n",
    "                    data[title.text] = content.text\n",
    "        except:\n",
    "            continue\n",
    "\n",
    "        #데이터 저장\n",
    "        lst.append(data)\n",
    "\n",
    "    return lst\n",
    "\n",
    "boodongsan_data = []\n",
    "# user_agent = 'Mozilla/5.0 (Windows NT 10.0; Win64; x64) AppleWebKit/537.36 (KHTML, like Gecko) Chrome/108.0.0.0 Safari/537.36'\n",
    "option = webdriver.ChromeOptions()\n",
    "option.add_argument(\"--start-maximized\")\n",
    "# option.add_argument('--user-agent=' + user_agent)\n",
    "driver = webdriver.Chrome(options = option)\n",
    "what_num = 1\n",
    "\n",
    "for x, y, school, mart in tqdm(zip(data['x'], data['y'], data['학교'],data['마트'])):\n",
    "    \n",
    "    driver.get(f'https://new.land.naver.com/rooms?ms={y},{x},19&a=APT:OPST:ABYG:OBYG:GM:OR:VL:DDDGG:JWJT:SGJT:HOJT&e=RETAIL&aa=SMALLSPCRENT')\n",
    "    time.sleep(2)\n",
    "    page = driver.page_source\n",
    "    soup = bs(page, 'html.parser')\n",
    "    circle = soup.find('div',class_ = 'map_area').select('div > div > a')\n",
    "    print(f'좌표 : {y},{x}, 원 갯수 {len(circle)}', what_num)\n",
    "    what_num += 1\n",
    "    for i in circle:\n",
    "        try:\n",
    "            circle_id = i['id']\n",
    "            circle_num = i.select_one('span.sale_number').text.split('개')[0]\n",
    "            boodongsan_data.extend(circle_data_crawling(circle_id,int(circle_num), x,y,school,mart))\n",
    "            print(len(boodongsan_data))\n",
    "        except:\n",
    "            break\n",
    "        \n",
    "\n",
    "boodongsan_data = pd.DataFrame(boodongsan_data)\n",
    "#데이터 저장\n",
    "boodongsan_data.to_csv('../final_data/new_boodongsan_data_utf.csv', index=False, encoding='utf-8')\n",
    "boodongsan_data.head()"
   ]
  },
  {
   "cell_type": "code",
   "execution_count": null,
   "metadata": {},
   "outputs": [],
   "source": [
    "from selenium import webdriver\n",
    "from webdriver_manager.chrome import ChromeDriverManager\n",
    "boodongsan_data = []\n",
    "# user_agent = 'Mozilla/5.0 (Windows NT 10.0; Win64; x64) AppleWebKit/537.36 (KHTML, like Gecko) Chrome/108.0.0.0 Safari/537.36'\n",
    "option = webdriver.ChromeOptions()\n",
    "option.add_argument(\"--start-maximized\")\n",
    "# option.add_argument('--user-agent=' + user_agent)\n",
    "driver = webdriver.Chrome(options = option)\n",
    "driver.get(f'https://new.land.naver.com/rooms?ms=37.477090,126.963506,19&a=APT:OPST:ABYG:OBYG:GM:OR:VL:DDDGG:JWJT:SGJT:HOJT&e=RETAIL&aa=SMALLSPCRENT')\n",
    "\n",
    "\n",
    "\n",
    "\n",
    "\n"
   ]
  },
  {
   "cell_type": "code",
   "execution_count": null,
   "metadata": {},
   "outputs": [],
   "source": []
  }
 ],
 "metadata": {
  "kernelspec": {
   "display_name": "devcourse",
   "language": "python",
   "name": "python3"
  },
  "language_info": {
   "codemirror_mode": {
    "name": "ipython",
    "version": 3
   },
   "file_extension": ".py",
   "mimetype": "text/x-python",
   "name": "python",
   "nbconvert_exporter": "python",
   "pygments_lexer": "ipython3",
   "version": "3.11.0"
  },
  "orig_nbformat": 4,
  "vscode": {
   "interpreter": {
    "hash": "8dae54fcef60c213fef1d74dab7cb985956d58d79b57b41fb91d750266c9bc5c"
   }
  }
 },
 "nbformat": 4,
 "nbformat_minor": 2
}
